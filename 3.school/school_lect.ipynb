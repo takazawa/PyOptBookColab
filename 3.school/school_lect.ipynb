{
 "cells": [
  {
   "cell_type": "markdown",
   "metadata": {},
   "source": [
    "# **第3章　学校のクラス編成**"
   ]
  },
  {
   "cell_type": "markdown",
   "source": [
    "[![Open In Colab](https://colab.research.google.com/assets/colab-badge.svg)](https://colab.research.google.com/github/takazawa/PyOptBookMeijiUnivBA/blob/main/3.school/school_lect.ipynb)"
   ],
   "metadata": {
    "collapsed": false
   }
  },
  {
   "cell_type": "code",
   "execution_count": null,
   "outputs": [],
   "source": [
    "# Google Colabで実行する場合は初回に必ず実行する\n",
    "import os\n",
    "if 'COLAB_GPU' in os.environ:\n",
    "  if not os.path.exists(\"PyOptBookMeijiUnivBA\"):\n",
    "    !git clone https://github.com/takazawa/PyOptBookMeijiUnivBA.git\n",
    "  !cp PyOptBookMeijiUnivBA/*/*.csv .\n",
    "  !pip install -r PyOptBookMeijiUnivBA/requirements.txt -q"
   ],
   "metadata": {
    "collapsed": false,
    "ExecuteTime": {
     "start_time": "2023-06-20T20:04:35.120084Z",
     "end_time": "2023-06-20T20:04:35.128341Z"
    }
   }
  },
  {
   "cell_type": "markdown",
   "metadata": {},
   "source": [
    "### **3.3 数理モデリングと実装**"
   ]
  },
  {
   "cell_type": "markdown",
   "metadata": {},
   "source": [
    "### ②データの確認"
   ]
  },
  {
   "cell_type": "code",
   "execution_count": null,
   "metadata": {
    "ExecuteTime": {
     "start_time": "2023-06-20T20:04:36.640638Z",
     "end_time": "2023-06-20T20:04:37.229635Z"
    }
   },
   "outputs": [],
   "source": [
    "# データ処理のためのライブラリpandasの取り込み\n",
    "import pandas as pd"
   ]
  },
  {
   "cell_type": "markdown",
   "metadata": {},
   "source": [
    "(1)生徒データ(students.csv)の確認"
   ]
  },
  {
   "cell_type": "code",
   "execution_count": null,
   "metadata": {
    "ExecuteTime": {
     "start_time": "2023-06-20T20:04:37.231047Z",
     "end_time": "2023-06-20T20:04:37.247566Z"
    }
   },
   "outputs": [],
   "source": [
    "# students.csvからの生徒データの取得\n",
    "s_df = pd.read_csv('students.csv')\n",
    "print(len(s_df))\n",
    "s_df.head()"
   ]
  },
  {
   "cell_type": "code",
   "execution_count": null,
   "metadata": {
    "ExecuteTime": {
     "start_time": "2023-06-20T20:04:38.147316Z",
     "end_time": "2023-06-20T20:04:38.151059Z"
    }
   },
   "outputs": [],
   "source": [
    "# 学籍番号の確認\n",
    "s_df['student_id']"
   ]
  },
  {
   "cell_type": "code",
   "execution_count": null,
   "metadata": {
    "ExecuteTime": {
     "start_time": "2023-06-20T20:04:38.359256Z",
     "end_time": "2023-06-20T20:04:38.365088Z"
    }
   },
   "outputs": [],
   "source": [
    "# 最大値の確認\n",
    "s_df['student_id'].max()"
   ]
  },
  {
   "cell_type": "code",
   "execution_count": null,
   "metadata": {
    "ExecuteTime": {
     "start_time": "2023-06-20T20:04:38.590302Z",
     "end_time": "2023-06-20T20:04:38.592959Z"
    }
   },
   "outputs": [],
   "source": [
    "# 最小値の確認\n",
    "s_df['student_id'].min()"
   ]
  },
  {
   "cell_type": "code",
   "execution_count": null,
   "metadata": {
    "ExecuteTime": {
     "start_time": "2023-06-20T20:04:39.078582Z",
     "end_time": "2023-06-20T20:04:39.080711Z"
    }
   },
   "outputs": [],
   "source": [
    "# 1〜318まで隙間なく番号が振られているかの確認\n",
    "set(range(1, 319)) == set(s_df['student_id'].tolist())"
   ]
  },
  {
   "cell_type": "code",
   "execution_count": null,
   "metadata": {
    "ExecuteTime": {
     "start_time": "2023-06-20T20:04:39.318907Z",
     "end_time": "2023-06-20T20:04:39.329098Z"
    }
   },
   "outputs": [],
   "source": [
    "# 性別（gender）の確認\n",
    "s_df['gender'].value_counts()"
   ]
  },
  {
   "cell_type": "code",
   "execution_count": null,
   "metadata": {
    "ExecuteTime": {
     "start_time": "2023-06-20T20:04:39.574908Z",
     "end_time": "2023-06-20T20:04:39.609251Z"
    }
   },
   "outputs": [],
   "source": [
    "# 学力試験の点数(score)の統計量の確認\n",
    "s_df['score'].describe()"
   ]
  },
  {
   "cell_type": "code",
   "execution_count": null,
   "metadata": {
    "ExecuteTime": {
     "start_time": "2023-06-20T20:04:39.783052Z",
     "end_time": "2023-06-20T20:04:40.185842Z"
    }
   },
   "outputs": [],
   "source": [
    "# 学力試験の点数(score)の分布の確認\n",
    "s_df['score'].hist()"
   ]
  },
  {
   "cell_type": "code",
   "execution_count": null,
   "metadata": {
    "ExecuteTime": {
     "start_time": "2023-06-20T20:04:40.187070Z",
     "end_time": "2023-06-20T20:04:40.190085Z"
    }
   },
   "outputs": [],
   "source": [
    "# リーダー気質フラグ(leader_flag)の確認\n",
    "s_df['leader_flag'].value_counts()"
   ]
  },
  {
   "cell_type": "code",
   "execution_count": null,
   "metadata": {
    "ExecuteTime": {
     "start_time": "2023-06-20T20:04:40.418054Z",
     "end_time": "2023-06-20T20:04:40.426527Z"
    }
   },
   "outputs": [],
   "source": [
    "# 特別支援フラグ(support_flag)の確認\n",
    "s_df['support_flag'].value_counts()"
   ]
  },
  {
   "cell_type": "markdown",
   "metadata": {},
   "source": [
    "(2)特定ペアデータ(student_pairs.csv)の確認"
   ]
  },
  {
   "cell_type": "code",
   "execution_count": null,
   "metadata": {
    "ExecuteTime": {
     "start_time": "2023-06-20T20:04:41.068382Z",
     "end_time": "2023-06-20T20:04:41.075744Z"
    }
   },
   "outputs": [],
   "source": [
    "# student_pairs.csvからの特定ペアデータの取得\n",
    "s_pair_df = pd.read_csv('student_pairs.csv')\n",
    "print(len(s_pair_df))\n",
    "s_pair_df"
   ]
  },
  {
   "cell_type": "markdown",
   "metadata": {},
   "source": [
    "### ③数理モデリングと実装"
   ]
  },
  {
   "cell_type": "code",
   "execution_count": null,
   "metadata": {
    "ExecuteTime": {
     "start_time": "2023-06-20T20:04:41.950678Z",
     "end_time": "2023-06-20T20:04:41.965463Z"
    }
   },
   "outputs": [],
   "source": [
    "# PythonライブラリPuLPの取り込み\n",
    "import pulp"
   ]
  },
  {
   "cell_type": "code",
   "execution_count": null,
   "metadata": {
    "ExecuteTime": {
     "start_time": "2023-06-20T20:04:42.283151Z",
     "end_time": "2023-06-20T20:04:42.287157Z"
    }
   },
   "outputs": [],
   "source": [
    "# 数理モデルのインスタンス作成\n",
    "prob = pulp.LpProblem('ClassAssignmentProblem', pulp.LpMaximize)"
   ]
  },
  {
   "cell_type": "code",
   "execution_count": null,
   "metadata": {
    "ExecuteTime": {
     "start_time": "2023-06-20T20:04:42.539661Z",
     "end_time": "2023-06-20T20:04:42.542762Z"
    }
   },
   "outputs": [],
   "source": [
    "# 生徒のリスト\n",
    "S = s_df['student_id'].tolist()\n",
    "print(S)"
   ]
  },
  {
   "cell_type": "code",
   "execution_count": null,
   "metadata": {
    "ExecuteTime": {
     "start_time": "2023-06-20T20:04:42.896259Z",
     "end_time": "2023-06-20T20:04:42.898726Z"
    }
   },
   "outputs": [],
   "source": [
    "# クラスのリスト\n",
    "C = ['A', 'B', 'C', 'D', 'E', 'F', 'G', 'H']\n",
    "C"
   ]
  },
  {
   "cell_type": "code",
   "execution_count": null,
   "metadata": {
    "ExecuteTime": {
     "start_time": "2023-06-20T20:04:43.477857Z",
     "end_time": "2023-06-20T20:04:43.479386Z"
    }
   },
   "outputs": [],
   "source": [
    "# 生徒とクラスのペアのリスト\n",
    "SC = [(s,c) for s in S for c in C]\n",
    "print(SC[:30])"
   ]
  },
  {
   "cell_type": "code",
   "execution_count": null,
   "metadata": {
    "ExecuteTime": {
     "start_time": "2023-06-20T20:04:43.948379Z",
     "end_time": "2023-06-20T20:04:43.953369Z"
    }
   },
   "outputs": [],
   "source": [
    "# 生徒をどのクラスに割り当てるかを変数として定義\n",
    "x = pulp.LpVariable.dicts('x', SC, cat='Binary')"
   ]
  },
  {
   "cell_type": "code",
   "execution_count": null,
   "metadata": {
    "ExecuteTime": {
     "start_time": "2023-06-20T20:04:44.630616Z",
     "end_time": "2023-06-20T20:04:44.633880Z"
    }
   },
   "outputs": [],
   "source": [
    "# (1)各生徒は１つのクラスに割り当てる\n",
    "for s in S:\n",
    "    prob += pulp.lpSum([x[s,c] for c in C]) == 1"
   ]
  },
  {
   "cell_type": "code",
   "execution_count": null,
   "metadata": {
    "ExecuteTime": {
     "start_time": "2023-06-20T20:04:44.816475Z",
     "end_time": "2023-06-20T20:04:44.818468Z"
    }
   },
   "outputs": [],
   "source": [
    "# (2)各クラスの生徒の人数は39人以上、40人以下とする。\n",
    "for c in C:\n",
    "    prob += pulp.lpSum([x[s,c] for s in S]) >= 39\n",
    "    prob += pulp.lpSum([x[s,c] for s in S]) <= 40"
   ]
  },
  {
   "cell_type": "code",
   "execution_count": null,
   "metadata": {
    "ExecuteTime": {
     "start_time": "2023-06-20T20:04:45.004138Z",
     "end_time": "2023-06-20T20:04:45.007393Z"
    }
   },
   "outputs": [],
   "source": [
    "# 男子生徒のリスト\n",
    "S_male = [row.student_id for row in s_df.itertuples() if row.gender == 1]\n",
    "\n",
    "# 女子生徒のリスト\n",
    "S_female = [row.student_id for row in s_df.itertuples() if row.gender == 0]\n",
    "\n",
    "# (3) 各クラスの男子生徒、女子生徒の人数は20人以下とする。\n",
    "for c in C:\n",
    "    prob += pulp.lpSum([x[s,c] for s in S_male]) <= 20\n",
    "    prob += pulp.lpSum([x[s,c] for s in S_female]) <= 20"
   ]
  },
  {
   "cell_type": "code",
   "execution_count": null,
   "metadata": {
    "ExecuteTime": {
     "start_time": "2023-06-20T20:04:45.168834Z",
     "end_time": "2023-06-20T20:04:45.185528Z"
    }
   },
   "outputs": [],
   "source": [
    "# 学力を辞書表現に変換\n",
    "score = {row.student_id:row.score for row in s_df.itertuples()}\n",
    "\n",
    "# 平均点の算出\n",
    "score_mean = s_df['score'].mean()\n",
    "print(score_mean)\n",
    "    \n",
    "# (4) 各クラスの学力試験の平均点は学年平均点±10点とする。    \n",
    "for c in C:\n",
    "    prob += (score_mean - 10) * pulp.lpSum([x[s,c] for s in S]) <= pulp.lpSum([x[s,c] * score[s] for s in S]) \n",
    "    prob += pulp.lpSum([x[s,c] * score[s] for s in S]) <= (score_mean + 10) * pulp.lpSum([x[s,c] for s in S])"
   ]
  },
  {
   "cell_type": "code",
   "execution_count": null,
   "metadata": {
    "ExecuteTime": {
     "start_time": "2023-06-20T20:04:45.336901Z",
     "end_time": "2023-06-20T20:04:45.338856Z"
    }
   },
   "outputs": [],
   "source": [
    "# リーダー気質の生徒の集合\n",
    "S_leader = [row.student_id for row in s_df.itertuples() if row.leader_flag == 1]\n",
    "\n",
    "# (5)各クラスにリーダー気質の生徒を2人以上割り当てる。\n",
    "for c in C:\n",
    "    prob += pulp.lpSum([x[s,c] for s in S_leader]) >= 2"
   ]
  },
  {
   "cell_type": "code",
   "execution_count": null,
   "metadata": {
    "ExecuteTime": {
     "start_time": "2023-06-20T20:04:45.542387Z",
     "end_time": "2023-06-20T20:04:45.551619Z"
    }
   },
   "outputs": [],
   "source": [
    "# 特別な支援が必要な生徒の集合\n",
    "S_support = [row.student_id for row in s_df.itertuples() if row.support_flag == 1]\n",
    "\n",
    "# (6) 特別な支援が必要な生徒は各クラスに1人以下とする。\n",
    "for c in C:\n",
    "    prob += pulp.lpSum([x[s,c] for s in S_support]) <= 1"
   ]
  },
  {
   "cell_type": "code",
   "execution_count": null,
   "metadata": {
    "ExecuteTime": {
     "start_time": "2023-06-20T20:04:45.742999Z",
     "end_time": "2023-06-20T20:04:45.752610Z"
    }
   },
   "outputs": [],
   "source": [
    "# 生徒の特定ペアリスト\n",
    "SS = [(row.student_id1, row.student_id2) for row in s_pair_df.itertuples()]\n",
    "\n",
    "# (7) 特定ペアの生徒は同一クラスに割り当てない。\n",
    "for s1, s2 in SS:\n",
    "    for c in C:\n",
    "        prob += x[s1,c] + x[s2,c] <= 1"
   ]
  },
  {
   "cell_type": "code",
   "execution_count": null,
   "metadata": {
    "ExecuteTime": {
     "start_time": "2023-06-20T20:04:45.940492Z",
     "end_time": "2023-06-20T20:04:45.943277Z"
    }
   },
   "outputs": [],
   "source": [
    "# prob # 追記"
   ]
  },
  {
   "cell_type": "code",
   "execution_count": null,
   "metadata": {
    "ExecuteTime": {
     "start_time": "2023-06-20T20:04:46.307959Z",
     "end_time": "2023-06-20T20:04:46.519610Z"
    }
   },
   "outputs": [],
   "source": [
    "# 求解\n",
    "status = prob.solve()\n",
    "print(status)\n",
    "print(pulp.LpStatus[status])"
   ]
  },
  {
   "cell_type": "code",
   "execution_count": null,
   "metadata": {
    "ExecuteTime": {
     "start_time": "2023-06-20T20:15:17.892356Z",
     "end_time": "2023-06-20T20:15:17.901649Z"
    }
   },
   "outputs": [],
   "source": [
    "# 最適化結果の表示\n",
    "# 各クラスに割り当てられている生徒のリストを辞書に格納\n",
    "C2Ss = {}\n",
    "for c in C:\n",
    "    C2Ss[c] = [s for s in S if x[s,c].value()==1]\n",
    "            \n",
    "for c, Ss in C2Ss.items():\n",
    "    print('Class:', c)\n",
    "    print('Num:', len(Ss))\n",
    "    print('Student:', Ss)\n",
    "    print()"
   ]
  },
  {
   "cell_type": "markdown",
   "metadata": {},
   "source": [
    "# 演習: 解が要件を満たしているかを確認する"
   ]
  },
  {
   "cell_type": "markdown",
   "metadata": {},
   "source": [
    "要件(1) 学年の全生徒をそれぞれ①つのクラスに割り当てる"
   ]
  },
  {
   "cell_type": "code",
   "execution_count": null,
   "outputs": [],
   "source": [
    "# 演習"
   ],
   "metadata": {
    "collapsed": false,
    "ExecuteTime": {
     "start_time": "2023-06-20T20:15:23.200867Z",
     "end_time": "2023-06-20T20:15:23.208343Z"
    }
   }
  },
  {
   "cell_type": "markdown",
   "metadata": {},
   "source": [
    "検証用データフレームの作成"
   ]
  },
  {
   "cell_type": "code",
   "execution_count": null,
   "metadata": {
    "ExecuteTime": {
     "start_time": "2023-06-20T20:15:23.561948Z",
     "end_time": "2023-06-20T20:15:23.564102Z"
    }
   },
   "outputs": [],
   "source": [
    "# 検証用のデータフレームの用意\n",
    "result_df = s_df.copy()\n",
    "\n",
    "# 各生徒がどのクラスに割り当てられたかの情報を辞書に格納\n",
    "S2C = {s:c for s in S for c in C if x[s,c].value()==1}\n",
    "\n",
    "# 生徒データに各生徒がどのクラスに割り当てられたかの情報を結合            \n",
    "result_df['assigned_class'] = result_df['student_id'].map(S2C)\n",
    "result_df.head(5)"
   ]
  },
  {
   "cell_type": "markdown",
   "metadata": {},
   "source": [
    "要件(2) 各クラスの生徒の人数は39人以上、40人以下とする"
   ]
  },
  {
   "cell_type": "code",
   "execution_count": null,
   "metadata": {
    "ExecuteTime": {
     "start_time": "2023-06-20T20:15:23.913506Z",
     "end_time": "2023-06-20T20:15:23.918604Z"
    }
   },
   "outputs": [],
   "source": [
    "# 演習"
   ]
  },
  {
   "cell_type": "markdown",
   "metadata": {},
   "source": [
    "(3) 各クラスの男子生徒、女子生徒の人数は20人以下とする。"
   ]
  },
  {
   "cell_type": "code",
   "execution_count": null,
   "metadata": {
    "ExecuteTime": {
     "start_time": "2023-06-20T20:15:24.286935Z",
     "end_time": "2023-06-20T20:15:24.294053Z"
    }
   },
   "outputs": [],
   "source": [
    "# 演習"
   ]
  },
  {
   "cell_type": "markdown",
   "metadata": {},
   "source": [
    "(4) 各クラスの学力試験の平均点は学年平均点±10点とする。"
   ]
  },
  {
   "cell_type": "code",
   "execution_count": null,
   "metadata": {
    "ExecuteTime": {
     "start_time": "2023-06-20T20:15:24.610607Z",
     "end_time": "2023-06-20T20:15:24.616129Z"
    }
   },
   "outputs": [],
   "source": [
    "# 演習"
   ]
  },
  {
   "cell_type": "markdown",
   "metadata": {},
   "source": [
    "(5) 各クラスにリーダー気質の生徒を2人以上割り当てる。"
   ]
  },
  {
   "cell_type": "code",
   "execution_count": null,
   "metadata": {
    "ExecuteTime": {
     "start_time": "2023-06-20T20:15:24.966948Z",
     "end_time": "2023-06-20T20:15:24.972080Z"
    }
   },
   "outputs": [],
   "source": [
    "# 演習"
   ]
  },
  {
   "cell_type": "markdown",
   "metadata": {},
   "source": [
    "(6) 特別な支援が必要な生徒は各クラスに1人以下とする。"
   ]
  },
  {
   "cell_type": "code",
   "execution_count": null,
   "metadata": {
    "ExecuteTime": {
     "start_time": "2023-06-20T20:15:25.311181Z",
     "end_time": "2023-06-20T20:15:25.317756Z"
    }
   },
   "outputs": [],
   "source": [
    "# 演習"
   ]
  },
  {
   "cell_type": "markdown",
   "metadata": {},
   "source": [
    "(7) 特定ペアの生徒は同一クラスに割り当てない。"
   ]
  },
  {
   "cell_type": "code",
   "execution_count": null,
   "metadata": {
    "ExecuteTime": {
     "start_time": "2023-06-20T20:15:26.070366Z",
     "end_time": "2023-06-20T20:15:26.078127Z"
    }
   },
   "outputs": [],
   "source": [
    "# 演習"
   ]
  },
  {
   "cell_type": "markdown",
   "metadata": {},
   "source": [
    "# 演習: 要件の追加"
   ]
  },
  {
   "cell_type": "code",
   "execution_count": null,
   "outputs": [],
   "source": [
    "# 特定の学生は指定するクラスに割り当てる\n",
    "fixed_student_class_pairs = [(1, \"A\"), (3, \"B\"), (50, \"C\")]\n",
    "\n",
    "# 特定の学生は指定するクラスに割り当てない\n",
    "forbidden_student_class_pair = [(2, \"E\"), (10, \"B\")]\n",
    "\n",
    "# 特定の生徒同士を同じクラスに割り当てる\n",
    "student_pairs = [(100, 101), (103, 104)]"
   ],
   "metadata": {
    "collapsed": false,
    "ExecuteTime": {
     "start_time": "2023-06-20T20:29:14.288506Z",
     "end_time": "2023-06-20T20:29:14.311293Z"
    }
   }
  },
  {
   "cell_type": "code",
   "execution_count": null,
   "outputs": [],
   "source": [
    "import pandas as pd\n",
    "import pulp\n",
    "\n",
    "prob = pulp.LpProblem('ClassAssignmentProblem2', pulp.LpMaximize)\n",
    "\n",
    "# 生徒をどのクラスに割り当てるを変数として定義\n",
    "x = pulp.LpVariable.dicts('x', SC, cat='Binary')\n",
    "\n",
    "# (1)各生徒は１つのクラスに割り当てる\n",
    "for s in S:\n",
    "    prob += pulp.lpSum([x[s,c] for c in C]) == 1\n",
    "\n",
    "# (2)各クラスの生徒の人数は39人以上、40人以下とする。\n",
    "for c in C:\n",
    "    prob += pulp.lpSum([x[s,c] for s in S]) >= 39\n",
    "    prob += pulp.lpSum([x[s,c] for s in S]) <= 40\n",
    "\n",
    "# 男子生徒のリスト\n",
    "S_male = [row.student_id for row in s_df.itertuples() if row.gender == 1]\n",
    "\n",
    "# 女子生徒のリスト\n",
    "S_female = [row.student_id for row in s_df.itertuples() if row.gender == 0]\n",
    "\n",
    "# (3) 各クラスの男子生徒、女子生徒の人数は20人以下とする。\n",
    "for c in C:\n",
    "    prob += pulp.lpSum([x[s,c] for s in S_male]) <= 20\n",
    "    prob += pulp.lpSum([x[s,c] for s in S_female]) <= 20\n",
    "\n",
    "# 学力を辞書表現に変換\n",
    "score = {row.student_id:row.score for row in s_df.itertuples()}\n",
    "\n",
    "# 平均点の算出\n",
    "score_mean = s_df['score'].mean()\n",
    "\n",
    "# (4) 各クラスの学力試験の平均点は学年平均点±10点とする。\n",
    "for c in C:\n",
    "    prob += pulp.lpSum([x[s,c]*score[s] for s in S]) >= (score_mean - 10) * pulp.lpSum([x[s,c] for s in S])\n",
    "    prob += pulp.lpSum([x[s,c]*score[s] for s in S]) <= (score_mean + 10) * pulp.lpSum([x[s,c] for s in S])\n",
    "\n",
    "# リーダー気質の生徒の集合\n",
    "S_leader = [row.student_id for row in s_df.itertuples() if row.leader_flag == 1]\n",
    "\n",
    "# (5)各クラスにリーダー気質の生徒を2人以上割り当てる。\n",
    "for c in C:\n",
    "    prob += pulp.lpSum([x[s,c] for s in S_leader]) >= 2\n",
    "\n",
    "# 特別な支援が必要な生徒の集合\n",
    "S_support = [row.student_id for row in s_df.itertuples() if row.support_flag == 1]\n",
    "\n",
    "# (6) 特別な支援が必要な生徒は各クラスに1人以下とする。\n",
    "for c in C:\n",
    "    prob += pulp.lpSum([x[s,c] for s in S_support]) <= 1\n",
    "\n",
    "# 生徒の特定ペアリスト\n",
    "SS = [(row.student_id1, row.student_id2) for row in s_pair_df.itertuples()]\n",
    "\n",
    "# (7) 特定ペアの生徒は同一クラスに割り当てない。\n",
    "for s1, s2 in SS:\n",
    "    for c in C:\n",
    "        prob += x[s1,c] + x[s2,c] <= 1\n",
    "\n",
    "# 追加の制約を記述\n",
    "\n",
    "# 求解\n",
    "status = prob.solve()\n",
    "print('Status:', pulp.LpStatus[status])\n",
    "\n",
    "# 最適化結果の表示\n",
    "# 各クラスに割り当てられている生徒のリストを辞書に格納\n",
    "C2Ss = {}\n",
    "for c in C:\n",
    "    C2Ss[c] = [s for s in S if x[s,c].value()==1]\n",
    "\n",
    "for c, Ss in C2Ss.items():\n",
    "    print('Class:', c)\n",
    "    print('Num:', len(Ss))\n",
    "    print('Student:', Ss)\n",
    "    print()"
   ],
   "metadata": {
    "collapsed": false,
    "ExecuteTime": {
     "start_time": "2023-06-20T20:30:22.718543Z",
     "end_time": "2023-06-20T20:30:22.899329Z"
    }
   }
  },
  {
   "cell_type": "code",
   "execution_count": 69,
   "outputs": [],
   "source": [
    "# 解の確認"
   ],
   "metadata": {
    "collapsed": false,
    "ExecuteTime": {
     "start_time": "2023-06-20T20:31:00.423554Z",
     "end_time": "2023-06-20T20:31:00.448074Z"
    }
   }
  },
  {
   "cell_type": "code",
   "execution_count": null,
   "outputs": [],
   "source": [],
   "metadata": {
    "collapsed": false
   }
  }
 ],
 "metadata": {
  "kernelspec": {
   "display_name": "Python 3",
   "language": "python",
   "name": "python3"
  },
  "language_info": {
   "codemirror_mode": {
    "name": "ipython",
    "version": 3
   },
   "file_extension": ".py",
   "mimetype": "text/x-python",
   "name": "python",
   "nbconvert_exporter": "python",
   "pygments_lexer": "ipython3",
   "version": "3.8.5"
  }
 },
 "nbformat": 4,
 "nbformat_minor": 4
}
