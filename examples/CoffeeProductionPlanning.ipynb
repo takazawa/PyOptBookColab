{
 "cells": [
  {
   "cell_type": "markdown",
   "metadata": {},
   "source": [
    "# コーヒーの生産の例\n",
    "\n",
    "[![Open In Colab](https://colab.research.google.com/assets/colab-badge.svg)](https://colab.research.google.com/github/takazawa/PyOptBookColab/blob/main/examples/CoffeeProductionPlanning.ipynb)"
   ]
  },
  {
   "cell_type": "markdown",
   "metadata": {},
   "source": [
    "## 1. そのまま実装\n",
    "\n",
    "$$\n",
    "\\begin{array}{ll}\n",
    "   \\text{maximize}_{x_A, x_B \\in \\mathbb{R}} & 50x_A + 40x_B \\\\\n",
    "   \\text{subject to} & 0.5x_A \\leq 80\\\\\n",
    "\t\t    & 0.5x_A + 0.7x_B \\leq 180 \\\\\n",
    "\t\t    & 0.3x_B \\leq 90 \\\\\n",
    "\t\t    & x_A \\geq 0\\\\\n",
    "\t\t    & x_B \\geq 0\n",
    "\\end{array}\n",
    "$$\n",
    "\n",
    "上記の問題をPyhonで表現するとどうなるだろうか？"
   ]
  },
  {
   "cell_type": "code",
   "execution_count": null,
   "metadata": {
    "ExecuteTime": {
     "end_time": "2023-05-29T15:34:17.768217Z",
     "start_time": "2023-05-29T15:34:17.744051Z"
    }
   },
   "outputs": [],
   "source": [
    "# Google Colabで実行する場合は初回に必ず実行する <- Pythonでは「#」からテキストを書くとコメント扱いになり無視される\n",
    "import os\n",
    "if 'COLAB_GPU' in os.environ:\n",
    "    if not os.path.exists(\"PyOptBookColab\"):\n",
    "        !git clone https://github.com/takazawa/PyOptBookColab.git\n",
    "        !cp PyOptBookColab/examples/*.csv .\n",
    "        !pip install -r PyOptBookColab/requirements.txt -q"
   ]
  },
  {
   "cell_type": "code",
   "execution_count": null,
   "metadata": {
    "ExecuteTime": {
     "end_time": "2023-05-29T15:34:18.528973Z",
     "start_time": "2023-05-29T15:34:18.514191Z"
    }
   },
   "outputs": [],
   "source": [
    "# 必要なライブラリのインポート\n",
    "import pulp"
   ]
  },
  {
   "cell_type": "code",
   "execution_count": null,
   "metadata": {
    "ExecuteTime": {
     "end_time": "2023-05-29T15:34:19.667401Z",
     "start_time": "2023-05-29T15:34:19.659288Z"
    }
   },
   "outputs": [],
   "source": [
    "# 問題の設定: どのような問題（最大化・最小化、線形計画等）であるかを定義する\n",
    "problem = pulp.LpProblem(\"CoffeeProduction\", pulp.LpMaximize)"
   ]
  },
  {
   "cell_type": "code",
   "execution_count": null,
   "metadata": {
    "ExecuteTime": {
     "end_time": "2023-05-29T15:34:20.055583Z",
     "start_time": "2023-05-29T15:34:20.052623Z"
    }
   },
   "outputs": [],
   "source": [
    "# 決定変数の設定\n",
    "x_A = pulp.LpVariable('x_A', cat='Continuous')\n",
    "x_B = pulp.LpVariable('x_B', cat='Continuous')"
   ]
  },
  {
   "cell_type": "code",
   "execution_count": null,
   "metadata": {
    "ExecuteTime": {
     "end_time": "2023-05-29T15:34:20.351198Z",
     "start_time": "2023-05-29T15:34:20.332744Z"
    }
   },
   "outputs": [],
   "source": [
    "# 目的関数の設定\n",
    "problem += 50 * x_A + 40 * x_B"
   ]
  },
  {
   "cell_type": "code",
   "execution_count": null,
   "metadata": {
    "ExecuteTime": {
     "end_time": "2023-05-29T15:34:20.625036Z",
     "start_time": "2023-05-29T15:34:20.610085Z"
    }
   },
   "outputs": [],
   "source": [
    "# 制約条件の設定\n",
    "problem += 0.5 * x_A <= 80\n",
    "problem += 0.5 * x_A + 0.7 * x_B <= 180\n",
    "problem += 0.3 * x_B <= 90\n",
    "problem += x_A >= 0\n",
    "problem += x_B >= 0"
   ]
  },
  {
   "cell_type": "code",
   "execution_count": null,
   "metadata": {
    "ExecuteTime": {
     "end_time": "2023-05-29T15:34:21.216024Z",
     "start_time": "2023-05-29T15:34:21.202926Z"
    }
   },
   "outputs": [],
   "source": [
    "# 表示\n",
    "problem"
   ]
  },
  {
   "cell_type": "code",
   "execution_count": null,
   "metadata": {
    "ExecuteTime": {
     "end_time": "2023-05-29T15:34:21.481859Z",
     "start_time": "2023-05-29T15:34:21.436773Z"
    }
   },
   "outputs": [],
   "source": [
    "# 解を求める\n",
    "status = problem.solve()\n",
    "print('Status:', pulp.LpStatus[status])"
   ]
  },
  {
   "cell_type": "code",
   "execution_count": null,
   "metadata": {
    "ExecuteTime": {
     "end_time": "2023-05-29T15:34:22.618576Z",
     "start_time": "2023-05-29T15:34:22.608478Z"
    }
   },
   "outputs": [],
   "source": [
    "# 最適化結果の表示\n",
    "print(\"x_A=\", x_A.value(), \"x_B=\", x_B.value())"
   ]
  },
  {
   "cell_type": "markdown",
   "metadata": {},
   "source": [
    "## リストを使って表記"
   ]
  },
  {
   "cell_type": "markdown",
   "metadata": {},
   "source": [
    "コーヒー生産の問題は記号を作って次のようにもかける:\n",
    "\n",
    "#### 集合（リスト）\n",
    "\n",
    "- 豆の集合: $I = \\{1, 2, 3\\}$\n",
    "- ブレンドコーヒーの集合: $J = \\{A, B\\}$\n",
    "\n",
    "#### 定数\n",
    "\n",
    "- ブレンドコーヒー$j \\in J$ごとの1トン生産した時の利益: $p_j \\geq 0$\n",
    "  - $p_A=50$\n",
    "  - $p_B=40$\n",
    "- ブレンドコーヒー$j \\in J$を1トン生産するために必要な豆$i \\in I$の量: $a_{ij} \\geq 0$\n",
    "  - $a_{1, A}=0.5$\n",
    "  -  $a_{2, A}=0.5$\n",
    "  -  $a_{3, A}=0$\n",
    "  -  $a_{1, B}=0$\n",
    "  -  $a_{2, B}=0.7$\n",
    "  -  $a_{3, B}=0.3$\n",
    "-   豆 $j \\in J$ごとの利用可能量: $b_j \\geq 0$\n",
    "  -  $b_1=80$\n",
    "  -  $b_2=180$\n",
    "  -  $b_3=90$\n",
    "\n",
    "これらを使って最適化問題を定式化すると、\n",
    "\n",
    "\n",
    "$$\n",
    "\\begin{array}{lll}\n",
    "   \\text{maximize}& \\sum_{j \\in J} p_jx_j &\\\\\n",
    "   \\text{subject to}&  \\sum_{j \\in J} a_{ij} x_j \\leq b_i & i \\in I,\\\\\n",
    "   & x_j \\geq 0 & j \\in J.\n",
    "\\end{array}\n",
    "$$\n",
    "\n",
    "このような形式でPythonで書くとどうなるだろうか？"
   ]
  },
  {
   "cell_type": "code",
   "execution_count": null,
   "metadata": {
    "ExecuteTime": {
     "end_time": "2023-05-29T15:34:25.339287Z",
     "start_time": "2023-05-29T15:34:25.332272Z"
    }
   },
   "outputs": [],
   "source": [
    "# リストの定義\n",
    "I = [1, 2, 3]\n",
    "J = [\"A\", \"B\"]\n",
    "\n",
    "# 定数\n",
    "p = {\"A\": 50, \"B\": 40}\n",
    "a = {(1, \"A\"): 0.5, (2, \"A\"): 0.5, (3, \"A\"): 0, (1, \"B\"): 0, (2, \"B\"): 0.7, (3, \"B\"): 0.3}\n",
    "b = {1: 80, 2: 180, 3: 90}"
   ]
  },
  {
   "cell_type": "code",
   "execution_count": null,
   "metadata": {
    "ExecuteTime": {
     "end_time": "2023-05-29T15:34:33.476786Z",
     "start_time": "2023-05-29T15:34:33.464024Z"
    }
   },
   "outputs": [],
   "source": [
    "# 問題の設定: どのような問題（最大化・最小化、線形計画等）であるかを定義する\n",
    "problem = pulp.LpProblem(\"CoffeeProduction\", pulp.LpMaximize)\n",
    "\n",
    "# 決定変数の設定\n",
    "x = {}\n",
    "for j in J:\n",
    "    x[j] = pulp.LpVariable(f\"x_{j}\", cat=\"Continuous\")\n",
    "\n",
    "# 目的関数の設定\n",
    "problem += sum([p[j] * x[j] for j in J])\n",
    "\n",
    "# 制約条件の設定\n",
    "for i in I:\n",
    "    problem += sum([a[i, j] * x[j] for j in J]) <= b[i]\n",
    "for j in J:\n",
    "    problem += x[j] >= 0\n",
    "\n",
    "problem"
   ]
  },
  {
   "cell_type": "code",
   "execution_count": null,
   "metadata": {
    "ExecuteTime": {
     "end_time": "2023-05-29T15:34:35.080544Z",
     "start_time": "2023-05-29T15:34:35.049631Z"
    }
   },
   "outputs": [],
   "source": [
    "# 求解\n",
    "status = problem.solve()\n",
    "print('Status:', pulp.LpStatus[status])"
   ]
  },
  {
   "cell_type": "code",
   "execution_count": null,
   "metadata": {
    "ExecuteTime": {
     "end_time": "2023-05-29T15:34:39.655118Z",
     "start_time": "2023-05-29T15:34:39.651697Z"
    }
   },
   "outputs": [],
   "source": [
    "# 解の表示\n",
    "for j in J:\n",
    "    print(f\"x_{j}={x[j].value()}\")"
   ]
  },
  {
   "cell_type": "markdown",
   "source": [
    "# ファイルからデータを読み込む"
   ],
   "metadata": {
    "collapsed": false
   }
  },
  {
   "cell_type": "code",
   "execution_count": null,
   "outputs": [],
   "source": [
    "# pandasという表ファイルの処理を行うライブラリをインポートする\n",
    "import pandas as pd"
   ],
   "metadata": {
    "collapsed": false,
    "ExecuteTime": {
     "start_time": "2023-05-29T19:34:16.037796Z",
     "end_time": "2023-05-29T19:34:16.063288Z"
    }
   }
  },
  {
   "cell_type": "code",
   "execution_count": null,
   "outputs": [],
   "source": [
    "df_p = pd.read_csv(\"coffee_p.csv\")\n",
    "df_b = pd.read_csv(\"coffee_b.csv\")\n",
    "df_a = pd.read_csv(\"coffee_a.csv\")"
   ],
   "metadata": {
    "collapsed": false,
    "ExecuteTime": {
     "start_time": "2023-05-29T19:39:56.287976Z",
     "end_time": "2023-05-29T19:39:56.301375Z"
    }
   }
  },
  {
   "cell_type": "code",
   "execution_count": null,
   "outputs": [],
   "source": [
    "df_a"
   ],
   "metadata": {
    "collapsed": false,
    "ExecuteTime": {
     "start_time": "2023-05-29T19:56:58.502356Z",
     "end_time": "2023-05-29T19:56:58.512539Z"
    }
   }
  },
  {
   "cell_type": "code",
   "execution_count": null,
   "outputs": [],
   "source": [
    "df_b"
   ],
   "metadata": {
    "collapsed": false,
    "ExecuteTime": {
     "start_time": "2023-05-29T19:39:56.662183Z",
     "end_time": "2023-05-29T19:39:56.668580Z"
    }
   }
  },
  {
   "cell_type": "code",
   "execution_count": null,
   "outputs": [],
   "source": [
    "df_p"
   ],
   "metadata": {
    "collapsed": false,
    "ExecuteTime": {
     "start_time": "2023-05-29T19:39:58.126115Z",
     "end_time": "2023-05-29T19:39:58.130928Z"
    }
   }
  },
  {
   "cell_type": "markdown",
   "source": [],
   "metadata": {
    "collapsed": false
   }
  },
  {
   "cell_type": "code",
   "execution_count": null,
   "outputs": [],
   "source": [
    "J = list(df_p[\"coffee\"])\n",
    "I = list(df_b[\"bean\"])\n",
    "I, J"
   ],
   "metadata": {
    "collapsed": false,
    "ExecuteTime": {
     "start_time": "2023-05-29T19:58:07.275631Z",
     "end_time": "2023-05-29T19:58:07.282753Z"
    }
   }
  },
  {
   "cell_type": "code",
   "execution_count": null,
   "outputs": [],
   "source": [
    "p = {}\n",
    "for index, row in df_p.iterrows():\n",
    "    coffee = row[\"coffee\"]\n",
    "    profit = row[\"profit\"]\n",
    "    p[coffee] = profit\n",
    "p"
   ],
   "metadata": {
    "collapsed": false,
    "ExecuteTime": {
     "start_time": "2023-05-29T19:58:08.114375Z",
     "end_time": "2023-05-29T19:58:08.124779Z"
    }
   }
  },
  {
   "cell_type": "code",
   "execution_count": null,
   "outputs": [],
   "source": [
    "a = {}\n",
    "for index, row in df_a.iterrows():\n",
    "    coffee = row[\"coffee\"]\n",
    "    bean = row[\"bean\"]\n",
    "    amount = row[\"amount\"]\n",
    "    a[bean, coffee] = amount\n",
    "a"
   ],
   "metadata": {
    "collapsed": false,
    "ExecuteTime": {
     "start_time": "2023-05-29T19:58:08.568006Z",
     "end_time": "2023-05-29T19:58:08.570766Z"
    }
   }
  },
  {
   "cell_type": "code",
   "execution_count": null,
   "outputs": [],
   "source": [
    "b = {}\n",
    "for index, row in df_b.iterrows():\n",
    "    bean = row[\"bean\"]\n",
    "    stock = row[\"stock\"]\n",
    "    b[bean] = stock\n",
    "b"
   ],
   "metadata": {
    "collapsed": false,
    "ExecuteTime": {
     "start_time": "2023-05-29T19:58:08.955995Z",
     "end_time": "2023-05-29T19:58:08.959620Z"
    }
   }
  },
  {
   "cell_type": "code",
   "execution_count": null,
   "outputs": [],
   "source": [
    "# 問題の設定: どのような問題（最大化・最小化、線形計画等）であるかを定義する\n",
    "problem = pulp.LpProblem(\"CoffeeProduction\", pulp.LpMaximize)\n",
    "\n",
    "# 決定変数の設定\n",
    "x = {}\n",
    "for j in J:\n",
    "    x[j] = pulp.LpVariable(f\"x_{j}\", cat=\"Continuous\")\n",
    "\n",
    "# 目的関数の設定\n",
    "problem += sum([p[j] * x[j] for j in J])\n",
    "\n",
    "# 制約条件の設定\n",
    "for i in I:\n",
    "    problem += sum([a[i, j] * x[j] for j in J]) <= b[i]\n",
    "for j in J:\n",
    "    problem += x[j] >= 0\n",
    "\n",
    "problem"
   ],
   "metadata": {
    "collapsed": false,
    "ExecuteTime": {
     "start_time": "2023-05-29T19:58:09.359380Z",
     "end_time": "2023-05-29T19:58:09.361498Z"
    }
   }
  }
 ],
 "metadata": {
  "kernelspec": {
   "display_name": "Python 3 (ipykernel)",
   "language": "python",
   "name": "python3"
  },
  "language_info": {
   "codemirror_mode": {
    "name": "ipython",
    "version": 3
   },
   "file_extension": ".py",
   "mimetype": "text/x-python",
   "name": "python",
   "nbconvert_exporter": "python",
   "pygments_lexer": "ipython3",
   "version": "3.9.5"
  }
 },
 "nbformat": 4,
 "nbformat_minor": 1
}
