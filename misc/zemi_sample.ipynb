{
 "cells": [
  {
   "cell_type": "markdown",
   "metadata": {},
   "source": [
    "[![Open In Colab](https://colab.research.google.com/assets/colab-badge.svg)](https://colab.research.google.com/github/takazawa/PyOptBookMeijiUnivBA/blob/main/misc/zemi_sample.ipynb)"
   ]
  },
  {
   "cell_type": "code",
   "execution_count": null,
   "metadata": {},
   "outputs": [],
   "source": [
    "# Google Colabで実行する場合は初回に必ず実行する\n",
    "import os\n",
    "if 'COLAB_GPU' in os.environ:\n",
    "    if not os.path.exists(\"PyOptBookMeijiUnivBA\"):\n",
    "        !git clone https://github.com/takazawa/PyOptBookMeijiUnivBA.git\n",
    "        !cp PyOptBookMeijiUnivBA/misc/*.csv .\n",
    "    !pip install -r PyOptBookMeijiUnivBA/requirements.txt -q"
   ]
  },
  {
   "cell_type": "code",
   "execution_count": null,
   "metadata": {
    "ExecuteTime": {
     "end_time": "2023-07-01T21:19:42.048682Z",
     "start_time": "2023-07-01T21:19:42.034524Z"
    }
   },
   "outputs": [],
   "source": [
    "import itertools\n",
    "\n",
    "import pandas as pd\n",
    "import pulp"
   ]
  },
  {
   "cell_type": "code",
   "execution_count": null,
   "metadata": {},
   "outputs": [],
   "source": [
    "# データ読み込み\n",
    "df_student = pd.read_csv(\"student.csv\", index_col=0)\n",
    "df_pref = pd.read_csv(\"pref.csv\", index_col=0)\n",
    "\n",
    "# データ定義\n",
    "S = df_student.index.to_list()\n",
    "Z = df_pref.columns.to_list()\n",
    "scores = {}\n",
    "for s, score in zip(S, df_student.score.to_list()):\n",
    "    scores[s] = score\n",
    "\n",
    "# 学生とゼミのペアのリスト\n",
    "SZ = [(s, z) for s in S for z in Z]\n",
    "\n",
    "# 学生とゼミの志望度のペアがキー\n",
    "d = df_pref.transpose().to_dict()\n",
    "P = {(s, z): d[s][z] for s in S for z in Z}\n",
    "\n",
    "# 各ゼミの志望順位ごとの学生数\n",
    "df_counts = pd.DataFrame(index=[0, 1, 2, 3, 4,5])\n",
    "for z in Z:\n",
    "    df_counts[z] = df_pref[z].value_counts().sort_index()\n",
    "\n",
    "# 後で使う関数の作成\n",
    "def get_result_df(x_result):\n",
    "    # 結果を格納したデータフレームを作成する\n",
    "    df_result = df_pref.copy()\n",
    "    df_result[\"assigned_zemi\"] = None\n",
    "    df_result[\"pref\"] = 0\n",
    "    df_result[\"score\"] = df_student.score\n",
    "    for s, z in itertools.product(S, Z):\n",
    "        if x_result[s, z] == 1:\n",
    "            df_result.loc[s, \"assigned_zemi\"] = z\n",
    "            df_result.loc[s, \"pref\"] = int(df_pref.loc[s, z])\n",
    "    return df_result"
   ]
  },
  {
   "cell_type": "markdown",
   "metadata": {},
   "source": [
    "# データ確認"
   ]
  },
  {
   "cell_type": "code",
   "execution_count": null,
   "metadata": {},
   "outputs": [],
   "source": [
    "df_student.head()"
   ]
  },
  {
   "cell_type": "code",
   "execution_count": null,
   "metadata": {},
   "outputs": [],
   "source": [
    "df_student.hist()"
   ]
  },
  {
   "cell_type": "code",
   "execution_count": null,
   "metadata": {},
   "outputs": [],
   "source": [
    "df_student.gender.value_counts()"
   ]
  },
  {
   "cell_type": "code",
   "execution_count": null,
   "metadata": {},
   "outputs": [],
   "source": [
    "df_pref.head()"
   ]
  },
  {
   "cell_type": "code",
   "execution_count": null,
   "metadata": {},
   "outputs": [],
   "source": [
    "# 各ゼミの志望順位ごとの学生数\n",
    "df_counts"
   ]
  },
  {
   "cell_type": "markdown",
   "metadata": {},
   "source": [
    "# 最適化例 （第1志望の割り当て数を増やす）"
   ]
  },
  {
   "cell_type": "code",
   "execution_count": null,
   "metadata": {
    "ExecuteTime": {
     "end_time": "2023-07-01T21:27:18.895957Z",
     "start_time": "2023-07-01T21:27:18.790954Z"
    }
   },
   "outputs": [],
   "source": [
    "prob = pulp.LpProblem('ClassAssignmentProblem', pulp.LpMaximize)\n",
    "x = pulp.LpVariable.dicts(\"x\", SZ, cat=\"Binary\")\n",
    "\n",
    "# 学生が割り当てるのは多くとも一つのゼミ\n",
    "for s in S:\n",
    "    prob += pulp.lpSum([x[s, z] for z in Z]) <= 1\n",
    "\n",
    "# 学生の志望度が0のゼミには割り当てない\n",
    "for (s,z), pref in P.items():\n",
    "    if pref == 0:\n",
    "        prob += x[s, z] == 0\n",
    "\n",
    "# 各ゼミの最大人数は10人\n",
    "for z in Z:\n",
    "    prob += pulp.lpSum([x[s,z] for s in S]) <= 10\n",
    "\n",
    "# ゼミに割り当てられた学生の数の総和を最大にする\n",
    "prob += sum([sum([(6-P[s,z]) * x[s, z] for s in S]) for z in Z])\n",
    "# 求解\n",
    "status = prob.solve()\n",
    "print('Status:', pulp.LpStatus[status])\n",
    "\n",
    "x_result = {}\n",
    "for s, z in itertools.product(S, Z):\n",
    "    x_result[s,z] = int(x[s,z].value())"
   ]
  },
  {
   "cell_type": "code",
   "execution_count": null,
   "metadata": {},
   "outputs": [],
   "source": [
    "df_result = get_result_df(x_result)\n",
    "df_result.head()"
   ]
  },
  {
   "cell_type": "code",
   "execution_count": null,
   "metadata": {},
   "outputs": [],
   "source": [
    "# 60%以上が第一志望に内定\n",
    "df_result.pref.value_counts()"
   ]
  },
  {
   "cell_type": "code",
   "execution_count": null,
   "metadata": {},
   "outputs": [],
   "source": [
    "# 第一志望がzemi07で成績が高いにも関わらず内定できていない人がたくさんいる\n",
    "df_result[df_result.zemi07 ==1].sort_values(by=\"score\", ascending=False)"
   ]
  },
  {
   "cell_type": "markdown",
   "metadata": {},
   "source": [
    "# 成績の高い順に割り当てる"
   ]
  },
  {
   "cell_type": "code",
   "execution_count": null,
   "metadata": {},
   "outputs": [],
   "source": [
    "# 成績の高い順の学生のリスト\n",
    "sorted_students = df_student.sort_values(by=\"score\", ascending=False).index.to_list()"
   ]
  },
  {
   "cell_type": "code",
   "execution_count": null,
   "metadata": {},
   "outputs": [],
   "source": [
    "y = {}\n",
    "zemi_count = { zemi: 0 for zemi in Z}\n",
    "for s in sorted_students:\n",
    "    for z in Z:\n",
    "        y[(s,z)]= 0\n",
    "    # 学生sの志望順のゼミのリスト\n",
    "    zemis = df_pref.loc[s].sort_values(ascending=False)[:5][::-1].index.to_list()\n",
    "    for zemi in zemis:\n",
    "        if zemi_count[zemi] <= 9:\n",
    "            y[s, zemi] = 1\n",
    "            zemi_count[zemi] += 1\n",
    "            break"
   ]
  },
  {
   "cell_type": "code",
   "execution_count": null,
   "metadata": {},
   "outputs": [],
   "source": [
    "# 結果のデータフレーム取得\n",
    "df_result = get_result_df(y)"
   ]
  },
  {
   "cell_type": "code",
   "execution_count": null,
   "metadata": {},
   "outputs": [],
   "source": [
    "# 配属されない人が10人いる\n",
    "df_result.pref.value_counts()"
   ]
  },
  {
   "cell_type": "code",
   "execution_count": null,
   "metadata": {},
   "outputs": [],
   "source": [
    "# 公平性は増している\n",
    "df_result[df_result.zemi07 ==1].sort_values(by=\"score\", ascending=False)"
   ]
  },
  {
   "cell_type": "code",
   "execution_count": null,
   "metadata": {},
   "outputs": [],
   "source": []
  }
 ],
 "metadata": {
  "kernelspec": {
   "display_name": "Python 3 (ipykernel)",
   "language": "python",
   "name": "python3"
  },
  "language_info": {
   "codemirror_mode": {
    "name": "ipython",
    "version": 3
   },
   "file_extension": ".py",
   "mimetype": "text/x-python",
   "name": "python",
   "nbconvert_exporter": "python",
   "pygments_lexer": "ipython3",
   "version": "3.9.5"
  }
 },
 "nbformat": 4,
 "nbformat_minor": 1
}
