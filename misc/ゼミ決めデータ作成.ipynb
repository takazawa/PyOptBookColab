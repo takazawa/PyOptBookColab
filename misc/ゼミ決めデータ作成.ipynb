{
 "cells": [
  {
   "cell_type": "code",
   "execution_count": 2,
   "metadata": {
    "ExecuteTime": {
     "start_time": "2023-07-01T16:18:36.784143Z",
     "end_time": "2023-07-01T16:18:36.907618Z"
    }
   },
   "outputs": [],
   "source": [
    "import numpy as np\n",
    "import pandas as pd\n",
    "import math"
   ]
  },
  {
   "cell_type": "code",
   "execution_count": 16,
   "metadata": {
    "ExecuteTime": {
     "start_time": "2023-07-01T21:59:51.530915Z",
     "end_time": "2023-07-01T21:59:51.542458Z"
    }
   },
   "outputs": [],
   "source": [
    "n_students = 100\n",
    "n_zemi = 10"
   ]
  },
  {
   "cell_type": "code",
   "execution_count": 17,
   "metadata": {
    "ExecuteTime": {
     "start_time": "2023-07-01T21:59:51.775981Z",
     "end_time": "2023-07-01T21:59:51.784302Z"
    }
   },
   "outputs": [],
   "source": [
    "\n",
    "students_ids = [f\"s{i + 1:04}\" for i in range(n_students)]\n",
    "zemi_ids = [f\"zemi{i + 1:02}\" for i in range(n_zemi)]"
   ]
  },
  {
   "cell_type": "code",
   "execution_count": 18,
   "metadata": {
    "ExecuteTime": {
     "start_time": "2023-07-01T21:59:52.115959Z",
     "end_time": "2023-07-01T21:59:52.121581Z"
    }
   },
   "outputs": [],
   "source": [
    "pref = np.array([list(np.random.permutation(range(1, n_zemi + 1))) for i in range(n_students)])"
   ]
  },
  {
   "cell_type": "code",
   "execution_count": 40,
   "metadata": {
    "ExecuteTime": {
     "end_time": "2023-06-26T21:59:34.910728Z",
     "start_time": "2023-06-26T21:59:34.906716Z"
    }
   },
   "outputs": [],
   "source": [
    "df_pref = pd.DataFrame(pref, index=students_ids, columns=zemi_ids)\n",
    "df_pref.to_csv(\"pref.csv\")"
   ]
  },
  {
   "cell_type": "code",
   "execution_count": 42,
   "metadata": {},
   "outputs": [
    {
     "data": {
      "text/plain": [
       "zemi01    5.49\n",
       "zemi02    5.81\n",
       "zemi03    5.48\n",
       "zemi04    5.72\n",
       "zemi05    5.86\n",
       "zemi06    5.03\n",
       "zemi07    5.22\n",
       "zemi08    5.80\n",
       "zemi09    5.04\n",
       "zemi10    5.55\n",
       "dtype: float64"
      ]
     },
     "execution_count": 42,
     "metadata": {},
     "output_type": "execute_result"
    }
   ],
   "source": []
  },
  {
   "cell_type": "code",
   "execution_count": 39,
   "metadata": {
    "ExecuteTime": {
     "end_time": "2023-06-26T22:00:34.402699Z",
     "start_time": "2023-06-26T22:00:34.400085Z"
    }
   },
   "outputs": [],
   "source": [
    "df_student = pd.DataFrame()\n",
    "df_student.index = students_ids\n",
    "df_student[\"score\"] = [int(abs(score)) for score in np.random.normal(loc=50, scale=10, size=n_students)]\n",
    "df_student[\"gender\"] = [\"male\" if np.random.rand() >= 0.5 else \"female\" for i in range(n_students)]\n",
    "df_student.to_csv(\"student.csv\")"
   ]
  },
  {
   "cell_type": "code",
   "execution_count": 38,
   "metadata": {
    "ExecuteTime": {
     "end_time": "2023-06-26T22:00:39.092318Z",
     "start_time": "2023-06-26T22:00:39.088083Z"
    }
   },
   "outputs": [
    {
     "data": {
      "text/plain": [
       "<Axes: >"
      ]
     },
     "execution_count": 38,
     "metadata": {},
     "output_type": "execute_result"
    },
    {
     "data": {
      "image/png": "[encoded data removed]",
      "text/plain": [
       "<Figure size 640x480 with 1 Axes>"
      ]
     },
     "metadata": {},
     "output_type": "display_data"
    }
   ],
   "source": []
  },
  {
   "cell_type": "code",
   "execution_count": 19,
   "metadata": {
    "ExecuteTime": {
     "start_time": "2023-07-01T22:00:04.133424Z",
     "end_time": "2023-07-01T22:00:04.143188Z"
    }
   },
   "outputs": [
    {
     "name": "stdout",
     "output_type": "stream",
     "text": [
      "[222, 555, 222, 555, 555]\n"
     ]
    }
   ],
   "source": [
    "import random\n",
    "\n",
    "numberList = [111, 222, 333, 444, 555]\n",
    "print(random.choices(numberList, weights=(10, 20, 30, 40, 50), k=5))"
   ]
  },
  {
   "cell_type": "code",
   "execution_count": 21,
   "outputs": [
    {
     "ename": "TypeError",
     "evalue": "sample() got an unexpected keyword argument 'weights'",
     "output_type": "error",
     "traceback": [
      "\u001B[0;31m---------------------------------------------------------------------------\u001B[0m",
      "\u001B[0;31mTypeError\u001B[0m                                 Traceback (most recent call last)",
      "Cell \u001B[0;32mIn[21], line 1\u001B[0m\n\u001B[0;32m----> 1\u001B[0m \u001B[43mrandom\u001B[49m\u001B[38;5;241;43m.\u001B[39;49m\u001B[43msample\u001B[49m\u001B[43m(\u001B[49m\u001B[43mnumberList\u001B[49m\u001B[43m,\u001B[49m\u001B[43m \u001B[49m\u001B[43mweights\u001B[49m\u001B[38;5;241;43m=\u001B[39;49m\u001B[43m(\u001B[49m\u001B[38;5;241;43m10\u001B[39;49m\u001B[43m,\u001B[49m\u001B[43m \u001B[49m\u001B[38;5;241;43m20\u001B[39;49m\u001B[43m,\u001B[49m\u001B[43m \u001B[49m\u001B[38;5;241;43m30\u001B[39;49m\u001B[43m,\u001B[49m\u001B[43m \u001B[49m\u001B[38;5;241;43m40\u001B[39;49m\u001B[43m,\u001B[49m\u001B[43m \u001B[49m\u001B[38;5;241;43m50\u001B[39;49m\u001B[43m)\u001B[49m\u001B[43m,\u001B[49m\u001B[43m \u001B[49m\u001B[43mk\u001B[49m\u001B[38;5;241;43m=\u001B[39;49m\u001B[38;5;241;43m5\u001B[39;49m\u001B[43m)\u001B[49m\n",
      "\u001B[0;31mTypeError\u001B[0m: sample() got an unexpected keyword argument 'weights'"
     ]
    }
   ],
   "source": [
    "random.sample(numberList, weights=(10, 20, 30, 40, 50), k=5)"
   ],
   "metadata": {
    "collapsed": false
   }
  },
  {
   "cell_type": "code",
   "execution_count": 23,
   "outputs": [],
   "source": [
    "import numpy as np\n",
    "\n",
    "w = np.random.permutation([0.7, 0.7, 3, 5, 6, 6, 2, 3, 0.7, 3])\n",
    "prob = w/sum(w)\n",
    "\n",
    "\n",
    "zemi_prefs = [list(np.random.choice(zemi_ids, 5, p=prob, replace=False)) for _ in range(n_students)]\n",
    "\n",
    "zemi_score_list = []\n",
    "for student_index in range(n_students):\n",
    "    zemi_pref = zemi_prefs[student_index]\n",
    "    zemi_score = [zemi_pref.index(zemi_id)+1 if zemi_id in zemi_pref else 0 for zemi_id in zemi_ids]\n",
    "    zemi_score_list.append(zemi_score)"
   ],
   "metadata": {
    "collapsed": false,
    "ExecuteTime": {
     "start_time": "2023-07-01T22:01:25.110703Z",
     "end_time": "2023-07-01T22:01:25.122660Z"
    }
   }
  },
  {
   "cell_type": "code",
   "execution_count": 24,
   "outputs": [
    {
     "data": {
      "text/plain": "[['zemi01', 'zemi04', 'zemi07', 'zemi05', 'zemi10'],\n ['zemi07', 'zemi04', 'zemi05', 'zemi01', 'zemi08'],\n ['zemi09', 'zemi05', 'zemi10', 'zemi04', 'zemi08'],\n ['zemi07', 'zemi05', 'zemi04', 'zemi01', 'zemi06'],\n ['zemi07', 'zemi09', 'zemi01', 'zemi05', 'zemi04'],\n ['zemi05', 'zemi04', 'zemi03', 'zemi07', 'zemi08'],\n ['zemi02', 'zemi09', 'zemi07', 'zemi01', 'zemi04'],\n ['zemi04', 'zemi07', 'zemi05', 'zemi09', 'zemi08'],\n ['zemi04', 'zemi02', 'zemi08', 'zemi07', 'zemi06'],\n ['zemi07', 'zemi05', 'zemi01', 'zemi10', 'zemi03'],\n ['zemi07', 'zemi03', 'zemi04', 'zemi09', 'zemi01'],\n ['zemi05', 'zemi01', 'zemi06', 'zemi07', 'zemi09'],\n ['zemi07', 'zemi09', 'zemi02', 'zemi01', 'zemi05'],\n ['zemi04', 'zemi01', 'zemi07', 'zemi05', 'zemi09'],\n ['zemi07', 'zemi10', 'zemi01', 'zemi02', 'zemi04'],\n ['zemi04', 'zemi06', 'zemi05', 'zemi10', 'zemi07'],\n ['zemi07', 'zemi08', 'zemi09', 'zemi04', 'zemi01'],\n ['zemi01', 'zemi08', 'zemi05', 'zemi10', 'zemi02'],\n ['zemi09', 'zemi05', 'zemi02', 'zemi04', 'zemi07'],\n ['zemi08', 'zemi05', 'zemi04', 'zemi07', 'zemi03'],\n ['zemi10', 'zemi01', 'zemi02', 'zemi08', 'zemi09'],\n ['zemi09', 'zemi01', 'zemi05', 'zemi07', 'zemi08'],\n ['zemi05', 'zemi04', 'zemi07', 'zemi02', 'zemi09'],\n ['zemi07', 'zemi09', 'zemi04', 'zemi05', 'zemi08'],\n ['zemi05', 'zemi03', 'zemi04', 'zemi02', 'zemi01'],\n ['zemi01', 'zemi07', 'zemi05', 'zemi02', 'zemi09'],\n ['zemi06', 'zemi05', 'zemi07', 'zemi04', 'zemi08'],\n ['zemi01', 'zemi03', 'zemi09', 'zemi08', 'zemi05'],\n ['zemi04', 'zemi05', 'zemi02', 'zemi10', 'zemi09'],\n ['zemi02', 'zemi05', 'zemi09', 'zemi04', 'zemi01'],\n ['zemi05', 'zemi09', 'zemi01', 'zemi07', 'zemi06'],\n ['zemi08', 'zemi09', 'zemi02', 'zemi07', 'zemi01'],\n ['zemi02', 'zemi07', 'zemi01', 'zemi08', 'zemi04'],\n ['zemi07', 'zemi03', 'zemi01', 'zemi09', 'zemi02'],\n ['zemi07', 'zemi05', 'zemi02', 'zemi04', 'zemi01'],\n ['zemi07', 'zemi01', 'zemi08', 'zemi09', 'zemi05'],\n ['zemi07', 'zemi09', 'zemi04', 'zemi05', 'zemi08'],\n ['zemi04', 'zemi07', 'zemi09', 'zemi05', 'zemi08'],\n ['zemi07', 'zemi02', 'zemi04', 'zemi05', 'zemi09'],\n ['zemi02', 'zemi08', 'zemi07', 'zemi04', 'zemi01'],\n ['zemi08', 'zemi05', 'zemi07', 'zemi02', 'zemi06'],\n ['zemi09', 'zemi05', 'zemi04', 'zemi08', 'zemi06'],\n ['zemi07', 'zemi01', 'zemi04', 'zemi09', 'zemi05'],\n ['zemi04', 'zemi02', 'zemi05', 'zemi06', 'zemi07'],\n ['zemi07', 'zemi05', 'zemi10', 'zemi04', 'zemi08'],\n ['zemi02', 'zemi05', 'zemi07', 'zemi01', 'zemi04'],\n ['zemi01', 'zemi04', 'zemi05', 'zemi09', 'zemi08'],\n ['zemi05', 'zemi02', 'zemi01', 'zemi09', 'zemi04'],\n ['zemi02', 'zemi01', 'zemi07', 'zemi05', 'zemi04'],\n ['zemi08', 'zemi01', 'zemi05', 'zemi04', 'zemi07'],\n ['zemi01', 'zemi09', 'zemi10', 'zemi02', 'zemi04'],\n ['zemi07', 'zemi02', 'zemi10', 'zemi09', 'zemi08'],\n ['zemi01', 'zemi05', 'zemi10', 'zemi02', 'zemi09'],\n ['zemi09', 'zemi01', 'zemi05', 'zemi02', 'zemi07'],\n ['zemi05', 'zemi07', 'zemi04', 'zemi01', 'zemi02'],\n ['zemi05', 'zemi08', 'zemi01', 'zemi04', 'zemi07'],\n ['zemi04', 'zemi06', 'zemi07', 'zemi05', 'zemi03'],\n ['zemi05', 'zemi02', 'zemi04', 'zemi09', 'zemi07'],\n ['zemi09', 'zemi02', 'zemi01', 'zemi06', 'zemi04'],\n ['zemi05', 'zemi07', 'zemi01', 'zemi08', 'zemi06'],\n ['zemi07', 'zemi02', 'zemi08', 'zemi05', 'zemi09'],\n ['zemi05', 'zemi04', 'zemi10', 'zemi09', 'zemi07'],\n ['zemi04', 'zemi07', 'zemi08', 'zemi10', 'zemi09'],\n ['zemi05', 'zemi04', 'zemi09', 'zemi02', 'zemi07'],\n ['zemi05', 'zemi04', 'zemi07', 'zemi01', 'zemi03'],\n ['zemi09', 'zemi04', 'zemi02', 'zemi10', 'zemi07'],\n ['zemi05', 'zemi04', 'zemi09', 'zemi07', 'zemi02'],\n ['zemi09', 'zemi04', 'zemi01', 'zemi07', 'zemi06'],\n ['zemi07', 'zemi05', 'zemi08', 'zemi04', 'zemi02'],\n ['zemi07', 'zemi02', 'zemi05', 'zemi08', 'zemi04'],\n ['zemi07', 'zemi04', 'zemi09', 'zemi08', 'zemi05'],\n ['zemi05', 'zemi07', 'zemi04', 'zemi09', 'zemi02'],\n ['zemi07', 'zemi08', 'zemi05', 'zemi09', 'zemi03'],\n ['zemi02', 'zemi01', 'zemi08', 'zemi05', 'zemi09'],\n ['zemi08', 'zemi09', 'zemi03', 'zemi05', 'zemi07'],\n ['zemi01', 'zemi04', 'zemi09', 'zemi02', 'zemi07'],\n ['zemi08', 'zemi04', 'zemi02', 'zemi05', 'zemi09'],\n ['zemi04', 'zemi05', 'zemi07', 'zemi09', 'zemi08'],\n ['zemi04', 'zemi07', 'zemi05', 'zemi01', 'zemi03'],\n ['zemi04', 'zemi01', 'zemi06', 'zemi02', 'zemi05'],\n ['zemi04', 'zemi08', 'zemi05', 'zemi10', 'zemi06'],\n ['zemi01', 'zemi05', 'zemi02', 'zemi09', 'zemi03'],\n ['zemi04', 'zemi08', 'zemi09', 'zemi02', 'zemi05'],\n ['zemi05', 'zemi09', 'zemi03', 'zemi08', 'zemi04'],\n ['zemi01', 'zemi05', 'zemi02', 'zemi08', 'zemi04'],\n ['zemi08', 'zemi07', 'zemi01', 'zemi04', 'zemi09'],\n ['zemi01', 'zemi04', 'zemi02', 'zemi05', 'zemi07'],\n ['zemi07', 'zemi05', 'zemi04', 'zemi03', 'zemi02'],\n ['zemi10', 'zemi09', 'zemi01', 'zemi03', 'zemi07'],\n ['zemi07', 'zemi05', 'zemi06', 'zemi04', 'zemi08'],\n ['zemi09', 'zemi07', 'zemi03', 'zemi01', 'zemi08'],\n ['zemi04', 'zemi09', 'zemi07', 'zemi02', 'zemi08'],\n ['zemi08', 'zemi05', 'zemi04', 'zemi01', 'zemi07'],\n ['zemi03', 'zemi07', 'zemi04', 'zemi05', 'zemi08'],\n ['zemi05', 'zemi04', 'zemi07', 'zemi01', 'zemi02'],\n ['zemi07', 'zemi04', 'zemi03', 'zemi08', 'zemi01'],\n ['zemi08', 'zemi04', 'zemi05', 'zemi07', 'zemi02'],\n ['zemi06', 'zemi09', 'zemi05', 'zemi07', 'zemi10'],\n ['zemi07', 'zemi03', 'zemi09', 'zemi04', 'zemi05'],\n ['zemi05', 'zemi09', 'zemi01', 'zemi04', 'zemi07']]"
     },
     "execution_count": 24,
     "metadata": {},
     "output_type": "execute_result"
    }
   ],
   "source": [
    "zemi_prefs"
   ],
   "metadata": {
    "collapsed": false,
    "ExecuteTime": {
     "start_time": "2023-07-01T22:01:26.349580Z",
     "end_time": "2023-07-01T22:01:26.353288Z"
    }
   }
  },
  {
   "cell_type": "code",
   "execution_count": 25,
   "outputs": [],
   "source": [
    "df_pref = pd.DataFrame(zemi_score_list, columns = zemi_ids, index= students_ids)\n",
    "df_pref.to_csv(\"pref.csv\")"
   ],
   "metadata": {
    "collapsed": false,
    "ExecuteTime": {
     "start_time": "2023-07-01T22:01:29.263401Z",
     "end_time": "2023-07-01T22:01:29.270508Z"
    }
   }
  },
  {
   "cell_type": "code",
   "execution_count": 15,
   "outputs": [
    {
     "name": "stdout",
     "output_type": "stream",
     "text": [
      "[0.19933555 0.06644518 0.02325581 0.02325581 0.16611296 0.09966777\n",
      " 0.19933555 0.09966777 0.02325581 0.09966777]\n"
     ]
    }
   ],
   "source": [
    "print(prob)"
   ],
   "metadata": {
    "collapsed": false,
    "ExecuteTime": {
     "start_time": "2023-07-01T21:19:36.501708Z",
     "end_time": "2023-07-01T21:19:36.513858Z"
    }
   }
  },
  {
   "cell_type": "code",
   "execution_count": 12,
   "outputs": [],
   "source": [
    "def my_index2(l, x):\n",
    "    return l.index(x) if x in l else 0"
   ],
   "metadata": {
    "collapsed": false,
    "ExecuteTime": {
     "start_time": "2023-07-01T16:44:26.192680Z",
     "end_time": "2023-07-01T16:44:26.205295Z"
    }
   }
  },
  {
   "cell_type": "code",
   "execution_count": null,
   "outputs": [],
   "source": [],
   "metadata": {
    "collapsed": false
   }
  }
 ],
 "metadata": {
  "kernelspec": {
   "display_name": "Python 3 (ipykernel)",
   "language": "python",
   "name": "python3"
  },
  "language_info": {
   "codemirror_mode": {
    "name": "ipython",
    "version": 3
   },
   "file_extension": ".py",
   "mimetype": "text/x-python",
   "name": "python",
   "nbconvert_exporter": "python",
   "pygments_lexer": "ipython3",
   "version": "3.9.5"
  }
 },
 "nbformat": 4,
 "nbformat_minor": 1
}
